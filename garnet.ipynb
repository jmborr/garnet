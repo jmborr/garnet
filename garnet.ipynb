{
 "metadata": {
  "name": "",
  "signature": "sha256:a1eefef1fe968555acfce567cc3195e52c8a6d5847e9b4b86cb121daf35a900a"
 },
 "nbformat": 3,
 "nbformat_minor": 0,
 "worksheets": [
  {
   "cells": [
    {
     "cell_type": "markdown",
     "metadata": {},
     "source": [
      "<a id='Table of Contents'></a><h2>Garnet</h2>  \n",
      "<a href='#goal'>Goal</a>   \n",
      "<a href='#people'>People</a>  \n",
      "\n",
      "<a id='Experiment'></a><h3>Experiment</h3>\n",
      "<a href='#Experiment.details'>Details of the experiment</a>  \n",
      " \n",
      "<a id='meetings'></a><b>Meetings</b>  \n",
      "<a href='#meetings.20170131'>Gabriel told me the basics of the project</a>  \n",
      "\n",
      "<a href='#Syntax'>HTML and Markdown Syntax Examples</a>  \n"
     ]
    },
    {
     "cell_type": "markdown",
     "metadata": {},
     "source": [
      "(<a href='#Table of Contents'>Top</a>)<a id='goal'></a><h3>Goal</h3>\n",
      "The intent is to show that concentrated LiCl in water Leads to a model of continuous diffusion for water. The hypothesis is that LiCl disrupts the hydrogen network such that water behaves more like a Lennard-Jones liquid."
     ]
    },
    {
     "cell_type": "markdown",
     "metadata": {},
     "source": [
      "(<a href='#Table of Contents'>Top</a>)<a id='people'></a><h3>People</h3>\n",
      "Gabriel M. Veith  \n",
      "Mathieu Doucet  \n",
      "Jim Browning"
     ]
    },
    {
     "cell_type": "markdown",
     "metadata": {},
     "source": [
      "<h2>Experiment</h2>"
     ]
    },
    {
     "cell_type": "markdown",
     "metadata": {},
     "source": [
      "(<a href='#Experiment'>Top</a>)<a id='Experiment.details'></a><h3>Details of the experiment</h3>\n",
      "\n",
      "IPTS-15865  \n",
      "\n",
      "Documents Gabriel sent me:\n",
      "- [Paper Li self Diffusion 36Al-LLZO + 60Ta-LLZO final.pptx](files/docs/Paper_Li_self_Diffusion_36Al-LLZO_plus_60Ta_LLZO_final.pptx)  \n",
      "- [PAPER Li Self Diffusion_Reppert_v9_SOD.docx](\"files/docs/PAPER_Li_Self_Diffusion_Reppert_v9_SOD.docx\")  \n",
      "- [Specific_questions_Throsten_SOD.docx](files/docs/Specific_questions_Throsten_SOD.docx) \n",
      "\n",
      "In /SNS/BSS/IPTS-15865/shared/README there's a relation of runs to system and temperature.  \n",
      "Three systems (60Ta, 40Ta, and 36Ta).  "
     ]
    },
    {
     "cell_type": "markdown",
     "metadata": {},
     "source": [
      "<h2>Meetings</h2>"
     ]
    },
    {
     "cell_type": "markdown",
     "metadata": {},
     "source": [
      "(<a href='#meetings'>Top</a>)<a id='meetings.20170131'></a><h3>Gabriel told me the basics of the project</h3>  \n",
      "Li hopping in ceramic garnet $Li_7(Zr Al Ta)O_{18}$, a solid electrolyte.  \n",
      "\n",
      "Other systems Gabriel has worked on:  \n",
      "Amorphous alloys as electrode materials:\n",
      "- $Li-Si$ (done)\n",
      "- $Li_5-Si_3$ (done)\n",
      "- $Li_{15}-Si_4$ (done)\n",
      "- $Li-S$ (not done yet)\n",
      "- $Li_2-S$ (not done yet)\n",
      "\n"
     ]
    },
    {
     "cell_type": "markdown",
     "metadata": {},
     "source": [
      "(<a href='#Table of Contents'>Top</a>)<a id='Syntax'></a><h3>HTML and Markdown Syntax Examples</h3>\n",
      "local link: [link](files/link)</br>\n",
      "remote link: <a href=\"http://ambermd.org/\">http://ambermd.org</a>\n",
      "<font face=\"courier new\"> font face=\"courier new\" </font><br/>\n",
      "$$S_{model}(Q,E)=A(Q)\\cdot S_{elastic}(E) + B(Q)\\cdot S_{simulation}(Q,E)\\otimes S_{elastic}(E) + C(Q)+D(Q)\\cdot E$$\n",
      "<pre> Quoted text </pre>\n",
      "<center><table><tr>\n",
      "<td><a href=\"files/image.png\"><img src=\"files/image.png\" width=\"300\" height=\"250\" alt=\"image here\"></a> <br/>\n",
      "    <i>image caption</i></td>\n",
      "<td>some text</td>\n",
      "</tr></table></center>"
     ]
    },
    {
     "cell_type": "code",
     "collapsed": false,
     "input": [],
     "language": "python",
     "metadata": {},
     "outputs": []
    }
   ],
   "metadata": {}
  }
 ]
}